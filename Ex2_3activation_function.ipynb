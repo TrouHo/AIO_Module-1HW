{
  "nbformat": 4,
  "nbformat_minor": 0,
  "metadata": {
    "colab": {
      "provenance": [],
      "authorship_tag": "ABX9TyOh2Xv/psi7TSaIXv0iMfhw",
      "include_colab_link": true
    },
    "kernelspec": {
      "name": "python3",
      "display_name": "Python 3"
    },
    "language_info": {
      "name": "python"
    }
  },
  "cells": [
    {
      "cell_type": "markdown",
      "metadata": {
        "id": "view-in-github",
        "colab_type": "text"
      },
      "source": [
        "<a href=\"https://colab.research.google.com/github/TrouHo/AIO_Module-1HW/blob/main/Ex2_3activation_function.ipynb\" target=\"_parent\"><img src=\"https://colab.research.google.com/assets/colab-badge.svg\" alt=\"Open In Colab\"/></a>"
      ]
    },
    {
      "cell_type": "code",
      "execution_count": 1,
      "metadata": {
        "colab": {
          "base_uri": "https://localhost:8080/"
        },
        "id": "Grz84mi0PLTn",
        "outputId": "012c6564-074c-4c03-e9a9-4033dbbeea60"
      },
      "outputs": [
        {
          "output_type": "stream",
          "name": "stdout",
          "text": [
            "Input x: 3\n",
            "Input name of the function (sigmoid, relu, elu): sigmoid\n",
            "sigmoid: f(3.0)=0.9525741268224334\n"
          ]
        }
      ],
      "source": [
        "import math\n",
        "def is_number(x):\n",
        "\n",
        "  try:\n",
        "    float(x)\n",
        "    return True\n",
        "  except ValueError:\n",
        "    return False\n",
        "\n",
        "def activation_function(x, activation_function_name):\n",
        "  if not is_number(x):\n",
        "    print(\"x must be a number\")\n",
        "    return\n",
        "\n",
        "  if activation_function_name == \"sigmoid\":\n",
        "    return sigmoid(x)\n",
        "  elif activation_function_name == \"relu\":\n",
        "    return relu(x)\n",
        "  elif activation_function_name == \"elu\":\n",
        "    return elu(x)\n",
        "  else:\n",
        "    raise ValueError( activation_function_name + \" is not supported\")\n",
        "\n",
        "def sigmoid(x):\n",
        "\n",
        "  return 1 / (1 + math.exp(-x))\n",
        "\n",
        "def relu(x):\n",
        "\n",
        "  return max(0, x)\n",
        "\n",
        "def elu(x, alpha=0.01):\n",
        "\n",
        "  return max(0.0, x) + alpha * (math.exp(x) - 1.0) if x < 0.0 else x\n",
        "\n",
        "def main():\n",
        "  while True:\n",
        "    x_str = input(\"Input x: \")\n",
        "    if is_number(x_str):\n",
        "      x = float(x_str)\n",
        "      break\n",
        "    else:\n",
        "      print(\"Invalid x. Input again!\")\n",
        "\n",
        "  activation_function_name = input(\"Input name of the function (sigmoid, relu, elu): \").lower()\n",
        "\n",
        "  output = activation_function(x, activation_function_name)\n",
        "  print(f\"{activation_function_name}: f({x})={output}\")\n",
        "\n",
        "if __name__ == \"__main__\":\n",
        "  main()"
      ]
    }
  ]
}