{
  "nbformat": 4,
  "nbformat_minor": 0,
  "metadata": {
    "colab": {
      "provenance": [],
      "history_visible": true,
      "authorship_tag": "ABX9TyNabYGuqUFh9eXtSh3jbz0P",
      "include_colab_link": true
    },
    "kernelspec": {
      "name": "python3",
      "display_name": "Python 3"
    },
    "language_info": {
      "name": "python"
    }
  },
  "cells": [
    {
      "cell_type": "markdown",
      "metadata": {
        "id": "view-in-github",
        "colab_type": "text"
      },
      "source": [
        "<a href=\"https://colab.research.google.com/github/TrouHo/AIO_Module-1HW/blob/main/Ex4_Taylor_Series.ipynb\" target=\"_parent\"><img src=\"https://colab.research.google.com/assets/colab-badge.svg\" alt=\"Open In Colab\"/></a>"
      ]
    },
    {
      "cell_type": "code",
      "source": [
        "import math\n",
        "\n",
        "def taylor_sin(x, n):\n",
        "    sin_x = 0\n",
        "    for i in range(n):\n",
        "        term = ((-1)**i * x**(2*i+1)) / math.factorial(2*i+1)\n",
        "        sin_x += term\n",
        "    return sin_x\n",
        "\n",
        "def taylor_cos(x, n):\n",
        "    cos_x = 0\n",
        "    for i in range(n):\n",
        "        term = ((-1)**i * x**(2*i)) / math.factorial(2*i)\n",
        "        cos_x += term\n",
        "    return cos_x\n",
        "\n",
        "def taylor_sinh(x, n):\n",
        "    sinh_x = 0\n",
        "    for i in range(n):\n",
        "        term = (x**(2*i+1)) / math.factorial(2*i+1)\n",
        "        sinh_x += term\n",
        "    return sinh_x\n",
        "\n",
        "def taylor_cosh(x, n):\n",
        "    cosh_x = 0\n",
        "    for i in range(n):\n",
        "        term = (x**(2*i)) / math.factorial(2*i)\n",
        "        cosh_x += term\n",
        "    return cosh_x\n"
      ],
      "metadata": {
        "id": "mQKrmboj0i3B"
      },
      "execution_count": 2,
      "outputs": []
    },
    {
      "cell_type": "code",
      "execution_count": 6,
      "metadata": {
        "colab": {
          "base_uri": "https://localhost:8080/"
        },
        "id": "9Temt1ai0hDz",
        "outputId": "121430e2-7564-4f65-c2d3-1f8a9673dc60"
      },
      "outputs": [
        {
          "output_type": "execute_result",
          "data": {
            "text/plain": [
              "7.5"
            ]
          },
          "metadata": {},
          "execution_count": 6
        }
      ],
      "source": [
        "taylor_sinh(3,2 )"
      ]
    }
  ]
}