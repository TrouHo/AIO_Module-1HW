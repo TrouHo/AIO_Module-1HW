{
  "nbformat": 4,
  "nbformat_minor": 0,
  "metadata": {
    "colab": {
      "provenance": [],
      "history_visible": true
    },
    "kernelspec": {
      "name": "python3",
      "display_name": "Python 3"
    },
    "language_info": {
      "name": "python"
    }
  },
  "cells": [
    {
      "cell_type": "code",
      "source": [
        "import math\n",
        "\n",
        "def taylor_sin(x, n):\n",
        "    sin_x = 0\n",
        "    for i in range(n):\n",
        "        term = ((-1)**i * x**(2*i+1)) / math.factorial(2*i+1)\n",
        "        sin_x += term\n",
        "    return sin_x\n",
        "\n",
        "def taylor_cos(x, n):\n",
        "    cos_x = 0\n",
        "    for i in range(n):\n",
        "        term = ((-1)**i * x**(2*i)) / math.factorial(2*i)\n",
        "        cos_x += term\n",
        "    return cos_x\n",
        "\n",
        "def taylor_sinh(x, n):\n",
        "    sinh_x = 0\n",
        "    for i in range(n):\n",
        "        term = (x**(2*i+1)) / math.factorial(2*i+1)\n",
        "        sinh_x += term\n",
        "    return sinh_x\n",
        "\n",
        "def taylor_cosh(x, n):\n",
        "    cosh_x = 0\n",
        "    for i in range(n):\n",
        "        term = (x**(2*i)) / math.factorial(2*i)\n",
        "        cosh_x += term\n",
        "    return cosh_x\n"
      ],
      "metadata": {
        "id": "mQKrmboj0i3B"
      },
      "execution_count": 2,
      "outputs": []
    },
    {
      "cell_type": "code",
      "execution_count": null,
      "metadata": {
        "colab": {
          "base_uri": "https://localhost:8080/"
        },
        "id": "9Temt1ai0hDz",
        "outputId": "1a4e327e-d8ec-4020-92e0-5fde89759b48"
      },
      "outputs": [
        {
          "output_type": "execute_result",
          "data": {
            "text/plain": [
              "0.6224593312018546"
            ]
          },
          "metadata": {},
          "execution_count": 16
        }
      ],
      "source": [
        "sigmoid(0.5)"
      ]
    }
  ]
}