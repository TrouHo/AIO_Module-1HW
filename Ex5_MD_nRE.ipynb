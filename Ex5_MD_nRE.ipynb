{
  "nbformat": 4,
  "nbformat_minor": 0,
  "metadata": {
    "colab": {
      "provenance": [],
      "history_visible": true,
      "authorship_tag": "ABX9TyMD4mH3IEM8pnEeb0PivsT3",
      "include_colab_link": true
    },
    "kernelspec": {
      "name": "python3",
      "display_name": "Python 3"
    },
    "language_info": {
      "name": "python"
    }
  },
  "cells": [
    {
      "cell_type": "markdown",
      "metadata": {
        "id": "view-in-github",
        "colab_type": "text"
      },
      "source": [
        "<a href=\"https://colab.research.google.com/github/TrouHo/AIO_Module-1HW/blob/main/Ex5_MD_nRE.ipynb\" target=\"_parent\"><img src=\"https://colab.research.google.com/assets/colab-badge.svg\" alt=\"Open In Colab\"/></a>"
      ]
    },
    {
      "cell_type": "code",
      "source": [
        "def MD_nRE(y, y_hat, n, p):\n",
        "\n",
        "    if not isinstance(y, (list, tuple)) or not isinstance(y_hat, (list, tuple)):\n",
        "        raise TypeError(\"y and y_hat must be lists or tuples.\")\n",
        "\n",
        "    m = len(y)\n",
        "    if m != len(y_hat):\n",
        "        raise ValueError(\"The length of y and y_hat must be the same.\")\n",
        "\n",
        "    total_error = 0\n",
        "    for i in range(m):\n",
        "        true_root = y[i]**(1/n)\n",
        "        pred_root = y_hat[i]**(1/n)\n",
        "        error = abs(true_root - pred_root)**p\n",
        "        total_error += error\n",
        "\n",
        "    md_nre = total_error / m\n",
        "    return md_nre\n",
        "\n",
        "\n"
      ],
      "metadata": {
        "id": "BnT7etTHUDTc"
      },
      "execution_count": 7,
      "outputs": []
    }
  ]
}