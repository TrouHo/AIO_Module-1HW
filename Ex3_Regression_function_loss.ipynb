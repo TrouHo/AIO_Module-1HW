{
  "nbformat": 4,
  "nbformat_minor": 0,
  "metadata": {
    "colab": {
      "provenance": [],
      "authorship_tag": "ABX9TyMYEqAnAJhdDj577fMspsjN",
      "include_colab_link": true
    },
    "kernelspec": {
      "name": "python3",
      "display_name": "Python 3"
    },
    "language_info": {
      "name": "python"
    }
  },
  "cells": [
    {
      "cell_type": "markdown",
      "metadata": {
        "id": "view-in-github",
        "colab_type": "text"
      },
      "source": [
        "<a href=\"https://colab.research.google.com/github/TrouHo/AIO_Module-1HW/blob/main/Ex3_Regression_function_loss.ipynb\" target=\"_parent\"><img src=\"https://colab.research.google.com/assets/colab-badge.svg\" alt=\"Open In Colab\"/></a>"
      ]
    },
    {
      "cell_type": "code",
      "execution_count": 6,
      "metadata": {
        "colab": {
          "base_uri": "https://localhost:8080/"
        },
        "id": "UujKF8E7QQWD",
        "outputId": "56460f51-5036-416f-ed56-1ddb2ee5505a"
      },
      "outputs": [
        {
          "output_type": "stream",
          "name": "stdout",
          "text": [
            "Enter the number of samples: 3\n",
            "Sample 1:\n",
            "Target (y_true): 5.51\n",
            "Prediction (y_pred): 7.39\n",
            "MAE: 1.88\n",
            "MSE: 3.53\n",
            "RMSE: 1.88\n",
            "------------------------------\n",
            "Sample 2:\n",
            "Target (y_true): 8.39\n",
            "Prediction (y_pred): 3.00\n",
            "MAE: 5.39\n",
            "MSE: 29.01\n",
            "RMSE: 5.39\n",
            "------------------------------\n",
            "Sample 3:\n",
            "Target (y_true): 0.99\n",
            "Prediction (y_pred): 1.31\n",
            "MAE: 0.32\n",
            "MSE: 0.10\n",
            "RMSE: 0.32\n",
            "------------------------------\n"
          ]
        }
      ],
      "source": [
        "import random\n",
        "import math\n",
        "\n",
        "def mae(y_true, y_pred):\n",
        "    return abs(y_true - y_pred)\n",
        "\n",
        "def mse(y_true, y_pred):\n",
        "    return (y_true - y_pred) ** 2\n",
        "\n",
        "def rmse(y_true, y_pred):\n",
        "    MSE = mse(y_true, y_pred)\n",
        "    return math.sqrt(MSE)\n",
        "\n",
        "def main():\n",
        "    num = input(\"Enter the number of samples: \")\n",
        "\n",
        "    if not num.isnumeric():\n",
        "        print(\"number of samples must be an integer number\")\n",
        "        return\n",
        "\n",
        "    num = int(num)\n",
        "\n",
        "    for _ in range(num):\n",
        "        y_true = random.uniform(0, 10)\n",
        "        y_pred = random.uniform(0, 10)\n",
        "\n",
        "        MAE = mae(y_true, y_pred)\n",
        "        MSE = mse(y_true, y_pred)\n",
        "        RMSE = rmse(y_true, y_pred)\n",
        "\n",
        "        print(f\"Sample {_+1}:\")\n",
        "        print(f\"Target (y_true): {y_true:.2f}\")\n",
        "        print(f\"Prediction (y_pred): {y_pred:.2f}\")\n",
        "        print(f\"MAE: {MAE:.2f}\")\n",
        "        print(f\"MSE: {MSE:.2f}\")\n",
        "        print(f\"RMSE: {RMSE:.2f}\")\n",
        "        print(\"-\" * 30)\n",
        "\n",
        "if __name__ == \"__main__\":\n",
        "    main()\n"
      ]
    }
  ]
}