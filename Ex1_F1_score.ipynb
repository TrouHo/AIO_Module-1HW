{
  "nbformat": 4,
  "nbformat_minor": 0,
  "metadata": {
    "colab": {
      "provenance": [],
      "history_visible": true,
      "authorship_tag": "ABX9TyOd6BRyJ3B4U0JvI+Vqf5pw",
      "include_colab_link": true
    },
    "kernelspec": {
      "name": "python3",
      "display_name": "Python 3"
    },
    "language_info": {
      "name": "python"
    }
  },
  "cells": [
    {
      "cell_type": "markdown",
      "metadata": {
        "id": "view-in-github",
        "colab_type": "text"
      },
      "source": [
        "<a href=\"https://colab.research.google.com/github/TrouHo/AIO_Module-1HW/blob/main/Ex1_F1_score.ipynb\" target=\"_parent\"><img src=\"https://colab.research.google.com/assets/colab-badge.svg\" alt=\"Open In Colab\"/></a>"
      ]
    },
    {
      "cell_type": "code",
      "execution_count": 1,
      "metadata": {
        "id": "bVQ_NtTVPlRU"
      },
      "outputs": [],
      "source": [
        "def f1_score(tp, fp, fn):\n",
        "\n",
        "  if not isinstance(tp, int):\n",
        "    print(\"tp must be int\")\n",
        "    return\n",
        "  if not isinstance(fp, int):\n",
        "    print(\"fp must be int\")\n",
        "    return\n",
        "  if not isinstance(fn, int):\n",
        "    print(\"fn must be int\")\n",
        "    return\n",
        "  if tp <= 0 or fp <= 0 or fn <= 0:\n",
        "    print(\"tp and fp and fn must be greater than zero\")\n",
        "    return\n",
        "\n",
        "  precision = tp / (tp + fp)\n",
        "  recall = tp / (tp + fn)\n",
        "  f1_score = 2 * (precision * recall) / (precision + recall)\n",
        "\n",
        "  print(\"Precision:\", precision)\n",
        "  print(\"Recall:\", recall)\n",
        "  print(\"F1-Score:\", f1_score)"
      ]
    }
  ]
}